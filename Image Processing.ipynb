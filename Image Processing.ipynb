{
 "cells": [
  {
   "cell_type": "markdown",
   "metadata": {},
   "source": [
    "## Pillow"
   ]
  },
  {
   "cell_type": "markdown",
   "metadata": {},
   "source": [
    "### Displaying Images"
   ]
  },
  {
   "cell_type": "code",
   "execution_count": 1,
   "metadata": {},
   "outputs": [
    {
     "name": "stdout",
     "output_type": "stream",
     "text": [
      "(200, 200)\n",
      "PNG\n"
     ]
    }
   ],
   "source": [
    "from PIL import Image\n",
    "\n",
    "img = Image.open(\"images/image.png\")\n",
    "print(img.size)\n",
    "print(img.format)\n",
    "\n",
    "# Opens a program which shows the image\n",
    "img.show()"
   ]
  },
  {
   "cell_type": "markdown",
   "metadata": {},
   "source": [
    "### Cropping Images"
   ]
  },
  {
   "cell_type": "code",
   "execution_count": 2,
   "metadata": {
    "collapsed": true
   },
   "outputs": [],
   "source": [
    "img = Image.open(\"images/image.png\")\n",
    "\n",
    "# crop() function takes starting and ending x-y coordinates as its parameters\n",
    "area = (30, 30, 170, 170)\n",
    "cropped_img = img.crop(area)\n",
    "\n",
    "img.show()\n",
    "cropped_img.show()"
   ]
  },
  {
   "cell_type": "markdown",
   "metadata": {},
   "source": [
    "### Combine images together"
   ]
  },
  {
   "cell_type": "code",
   "execution_count": 3,
   "metadata": {
    "collapsed": true
   },
   "outputs": [],
   "source": [
    "img = Image.open(\"images/rajat.jpeg\")\n",
    "img2 = Image.open(\"images/image.png\")\n",
    "\n",
    "area = (100, 100, 300, 300)\n",
    "img.paste(img2, area)\n",
    "\n",
    "img.show()"
   ]
  },
  {
   "cell_type": "markdown",
   "metadata": {},
   "source": [
    "### Getting individual channels\n",
    "\n",
    "Every colourful image has three channels i.e. Red(R), Green(G) and Blue(B) which makes its mode as RGB.\n",
    "Sometimes, image has another channel also i.e Alpha(A) which decribes the opacity at that pixel, thus making the mode of image as RGBA."
   ]
  },
  {
   "cell_type": "code",
   "execution_count": 4,
   "metadata": {},
   "outputs": [
    {
     "name": "stdout",
     "output_type": "stream",
     "text": [
      "RGBA\n"
     ]
    }
   ],
   "source": [
    "img = Image.open(\"images/image.png\")\n",
    "\n",
    "print(img.mode)\n",
    "\n",
    "r, g, b, a = img.split()\n",
    "\n",
    "r.show()\n",
    "g.show()\n",
    "b.show()\n",
    "a.show()"
   ]
  },
  {
   "cell_type": "markdown",
   "metadata": {},
   "source": [
    "### Merging Images"
   ]
  },
  {
   "cell_type": "code",
   "execution_count": 5,
   "metadata": {
    "collapsed": true
   },
   "outputs": [],
   "source": [
    "img = Image.open(\"images/image.png\")\n",
    "r, g, b, a = img.split()\n",
    "new_img = Image.merge(\"RGBA\", (r, g, b, a))\n",
    "new_img.show()\n",
    "negative_img = Image.merge(\"RGBA\", (b, g, r, a))\n",
    "negative_img.show()"
   ]
  },
  {
   "cell_type": "code",
   "execution_count": 6,
   "metadata": {
    "collapsed": true
   },
   "outputs": [],
   "source": [
    "python = Image.open(\"images/image.png\")\n",
    "rajat = Image.open(\"images/rajat.jpeg\")\n",
    "r1, g1, b1, a1 = python.split()\n",
    "r2, g2, b2 = rajat.split()\n",
    "\n",
    "new_img = Image.merge(\"RGBA\", (b1, g1, r1, a1))"
   ]
  },
  {
   "cell_type": "markdown",
   "metadata": {},
   "source": [
    "### Basic Transformations"
   ]
  },
  {
   "cell_type": "code",
   "execution_count": 7,
   "metadata": {
    "collapsed": true
   },
   "outputs": [],
   "source": [
    "img = Image.open(\"images/image.png\")\n",
    "\n",
    "small_img = img.resize((100, 100))\n",
    "flip_img = img.transpose(Image.FLIP_LEFT_RIGHT)\n",
    "spin_img = img.transpose(Image.ROTATE_90)\n",
    "\n",
    "img.show()\n",
    "small_img.show()\n",
    "flip_img.show()\n",
    "spin_img.show()"
   ]
  },
  {
   "cell_type": "markdown",
   "metadata": {},
   "source": [
    "### Modes and Filters"
   ]
  },
  {
   "cell_type": "code",
   "execution_count": 8,
   "metadata": {},
   "outputs": [
    {
     "name": "stdout",
     "output_type": "stream",
     "text": [
      "L\n"
     ]
    }
   ],
   "source": [
    "img = Image.open(\"images/image.png\")\n",
    "black_white_img = img.convert(\"L\")\n",
    "black_white_img.show()\n",
    "print(black_white_img.mode)"
   ]
  },
  {
   "cell_type": "code",
   "execution_count": 9,
   "metadata": {
    "collapsed": true
   },
   "outputs": [],
   "source": [
    "from PIL import ImageFilter\n",
    "\n",
    "img = Image.open(\"images/image.png\")\n",
    "\n",
    "blurred_img = img.filter(ImageFilter.BLUR)\n",
    "detailed_img = img.filter(ImageFilter.DETAIL)\n",
    "edges_img = img.filter(ImageFilter.FIND_EDGES)\n",
    "\n",
    "blurred_img.show()\n",
    "detailed_img.show()\n",
    "edges_img.show()"
   ]
  }
 ],
 "metadata": {
  "kernelspec": {
   "display_name": "Python 3",
   "language": "python",
   "name": "python3"
  },
  "language_info": {
   "codemirror_mode": {
    "name": "ipython",
    "version": 3
   },
   "file_extension": ".py",
   "mimetype": "text/x-python",
   "name": "python",
   "nbconvert_exporter": "python",
   "pygments_lexer": "ipython3",
   "version": "3.6.2"
  }
 },
 "nbformat": 4,
 "nbformat_minor": 2
}
