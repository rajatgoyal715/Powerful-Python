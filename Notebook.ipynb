{
 "cells": [
  {
   "cell_type": "markdown",
   "metadata": {},
   "source": [
    "## Welcome to Python\n",
    "\n",
    "Python is a programming language which can be used to make computer games, cross platform softwares, website applications and much more.\n",
    "\n",
    "\n",
    "## Download and Installation\n",
    "\n",
    "Visit the offical website - https://www.python.org/\n",
    "\n"
   ]
  },
  {
   "cell_type": "markdown",
   "metadata": {},
   "source": [
    "## Math Basics"
   ]
  },
  {
   "cell_type": "code",
   "execution_count": 1,
   "metadata": {},
   "outputs": [
    {
     "data": {
      "text/plain": [
       "7"
      ]
     },
     "execution_count": 1,
     "metadata": {},
     "output_type": "execute_result"
    }
   ],
   "source": [
    "# Addition\n",
    "\n",
    "3 + 4"
   ]
  },
  {
   "cell_type": "code",
   "execution_count": 2,
   "metadata": {},
   "outputs": [
    {
     "data": {
      "text/plain": [
       "100"
      ]
     },
     "execution_count": 2,
     "metadata": {},
     "output_type": "execute_result"
    }
   ],
   "source": [
    "# Multiplication\n",
    "\n",
    "5 * 20"
   ]
  },
  {
   "cell_type": "code",
   "execution_count": 3,
   "metadata": {},
   "outputs": [
    {
     "data": {
      "text/plain": [
       "28"
      ]
     },
     "execution_count": 3,
     "metadata": {},
     "output_type": "execute_result"
    }
   ],
   "source": [
    "# Bodmas\n",
    "\n",
    "8 + 2 * 10"
   ]
  },
  {
   "cell_type": "code",
   "execution_count": 4,
   "metadata": {},
   "outputs": [
    {
     "data": {
      "text/plain": [
       "100"
      ]
     },
     "execution_count": 4,
     "metadata": {},
     "output_type": "execute_result"
    }
   ],
   "source": [
    "# Paranthesis\n",
    "\n",
    "(8 + 2) * 10"
   ]
  },
  {
   "cell_type": "code",
   "execution_count": 5,
   "metadata": {},
   "outputs": [
    {
     "data": {
      "text/plain": [
       "4.5"
      ]
     },
     "execution_count": 5,
     "metadata": {},
     "output_type": "execute_result"
    }
   ],
   "source": [
    "# Float Division\n",
    "# Returns the actual division output\n",
    "\n",
    "18 / 4"
   ]
  },
  {
   "cell_type": "code",
   "execution_count": 6,
   "metadata": {},
   "outputs": [
    {
     "data": {
      "text/plain": [
       "4"
      ]
     },
     "execution_count": 6,
     "metadata": {},
     "output_type": "execute_result"
    }
   ],
   "source": [
    "# Integral Division\n",
    "# Returns the integer part of the division\n",
    "\n",
    "18 // 4"
   ]
  },
  {
   "cell_type": "code",
   "execution_count": 7,
   "metadata": {},
   "outputs": [
    {
     "data": {
      "text/plain": [
       "2"
      ]
     },
     "execution_count": 7,
     "metadata": {},
     "output_type": "execute_result"
    }
   ],
   "source": [
    "# Remainder\n",
    "\n",
    "18 % 4"
   ]
  },
  {
   "cell_type": "code",
   "execution_count": 8,
   "metadata": {},
   "outputs": [
    {
     "data": {
      "text/plain": [
       "125"
      ]
     },
     "execution_count": 8,
     "metadata": {},
     "output_type": "execute_result"
    }
   ],
   "source": [
    "# Exponent\n",
    "\n",
    "5 ** 3"
   ]
  },
  {
   "cell_type": "markdown",
   "metadata": {
    "slideshow": {
     "slide_type": "subslide"
    }
   },
   "source": [
    "## Input/Output"
   ]
  },
  {
   "cell_type": "code",
   "execution_count": 9,
   "metadata": {
    "slideshow": {
     "slide_type": "fragment"
    }
   },
   "outputs": [
    {
     "name": "stdout",
     "output_type": "stream",
     "text": [
      "Input : 123abc!@#\n",
      "Output : 123abc!@#\n"
     ]
    }
   ],
   "source": [
    "# Takes some input from the user\n",
    "x = input('Input : ')\n",
    "\n",
    "# Prints out the same as output\n",
    "print('Output : ' + x)"
   ]
  },
  {
   "cell_type": "markdown",
   "metadata": {},
   "source": [
    "## Data Types"
   ]
  },
  {
   "cell_type": "markdown",
   "metadata": {},
   "source": [
    "### Integers"
   ]
  },
  {
   "cell_type": "code",
   "execution_count": 10,
   "metadata": {
    "collapsed": true
   },
   "outputs": [],
   "source": [
    "x = 5\n",
    "y = 5"
   ]
  },
  {
   "cell_type": "code",
   "execution_count": 11,
   "metadata": {},
   "outputs": [
    {
     "data": {
      "text/plain": [
       "10"
      ]
     },
     "execution_count": 11,
     "metadata": {},
     "output_type": "execute_result"
    }
   ],
   "source": [
    "x + y"
   ]
  },
  {
   "cell_type": "code",
   "execution_count": 12,
   "metadata": {},
   "outputs": [
    {
     "data": {
      "text/plain": [
       "3125"
      ]
     },
     "execution_count": 12,
     "metadata": {},
     "output_type": "execute_result"
    }
   ],
   "source": [
    "5 ** x"
   ]
  },
  {
   "cell_type": "markdown",
   "metadata": {},
   "source": [
    "### Strings"
   ]
  },
  {
   "cell_type": "code",
   "execution_count": 13,
   "metadata": {},
   "outputs": [
    {
     "data": {
      "text/plain": [
       "'String is comprised of characters in quotes'"
      ]
     },
     "execution_count": 13,
     "metadata": {},
     "output_type": "execute_result"
    }
   ],
   "source": [
    "'String is comprised of characters in quotes'"
   ]
  },
  {
   "cell_type": "code",
   "execution_count": 14,
   "metadata": {},
   "outputs": [
    {
     "data": {
      "text/plain": [
       "'It also works in double quotes'"
      ]
     },
     "execution_count": 14,
     "metadata": {},
     "output_type": "execute_result"
    }
   ],
   "source": [
    "\"It also works in double quotes\""
   ]
  },
  {
   "cell_type": "code",
   "execution_count": 15,
   "metadata": {
    "collapsed": true
   },
   "outputs": [],
   "source": [
    "# 'I don't think if this works'"
   ]
  },
  {
   "cell_type": "code",
   "execution_count": 16,
   "metadata": {},
   "outputs": [
    {
     "data": {
      "text/plain": [
       "\"I don't think this will create any problem.\""
      ]
     },
     "execution_count": 16,
     "metadata": {},
     "output_type": "execute_result"
    }
   ],
   "source": [
    "# Escaping character\n",
    "\n",
    "'I don\\'t think this will create any problem.'"
   ]
  },
  {
   "cell_type": "code",
   "execution_count": 17,
   "metadata": {},
   "outputs": [
    {
     "data": {
      "text/plain": [
       "\"Just don't use single quotes!!\""
      ]
     },
     "execution_count": 17,
     "metadata": {},
     "output_type": "execute_result"
    }
   ],
   "source": [
    "# Use double quotes to remove this type of problem\n",
    "\n",
    "\"Just don't use single quotes!!\""
   ]
  },
  {
   "cell_type": "code",
   "execution_count": 18,
   "metadata": {},
   "outputs": [
    {
     "name": "stdout",
     "output_type": "stream",
     "text": [
      "C:\\Desktop\n",
      "ewfolder\n"
     ]
    }
   ],
   "source": [
    "# Formatting Characters\n",
    "\n",
    "# Tab - '\\t'\n",
    "# Newline - '\\n'\n",
    "\n",
    "print('C:\\Desktop\\newfolder')"
   ]
  },
  {
   "cell_type": "code",
   "execution_count": 19,
   "metadata": {},
   "outputs": [
    {
     "name": "stdout",
     "output_type": "stream",
     "text": [
      "C:\\Desktop\\newfolder\n"
     ]
    }
   ],
   "source": [
    "# Use r to consider the raw string i.e. without any formatting\n",
    "\n",
    "print(r'C:\\Desktop\\newfolder')"
   ]
  },
  {
   "cell_type": "code",
   "execution_count": 20,
   "metadata": {},
   "outputs": [
    {
     "data": {
      "text/plain": [
       "'String String String String String '"
      ]
     },
     "execution_count": 20,
     "metadata": {},
     "output_type": "execute_result"
    }
   ],
   "source": [
    "# String multiplication\n",
    "\n",
    "x = 'String '\n",
    "x * 5"
   ]
  },
  {
   "cell_type": "code",
   "execution_count": 21,
   "metadata": {},
   "outputs": [
    {
     "data": {
      "text/plain": [
       "'Rajat Goyal'"
      ]
     },
     "execution_count": 21,
     "metadata": {},
     "output_type": "execute_result"
    }
   ],
   "source": [
    "# String Concatenation\n",
    "\n",
    "'Rajat ' + 'Goyal'"
   ]
  },
  {
   "cell_type": "code",
   "execution_count": 22,
   "metadata": {},
   "outputs": [
    {
     "data": {
      "text/plain": [
       "'5 Rupees'"
      ]
     },
     "execution_count": 22,
     "metadata": {},
     "output_type": "execute_result"
    }
   ],
   "source": [
    "# Integer to String Conversion\n",
    "\n",
    "quantity = 5\n",
    "denomination = \" Rupees\"\n",
    "\n",
    "str(quantity) + denomination"
   ]
  },
  {
   "cell_type": "code",
   "execution_count": 23,
   "metadata": {},
   "outputs": [
    {
     "data": {
      "text/plain": [
       "'at Go'"
      ]
     },
     "execution_count": 23,
     "metadata": {},
     "output_type": "execute_result"
    }
   ],
   "source": [
    "name = 'Rajat Goyal'\n",
    "\n",
    "# Substring of a string by defining the range\n",
    "name[3:8]"
   ]
  },
  {
   "cell_type": "code",
   "execution_count": 24,
   "metadata": {},
   "outputs": [
    {
     "data": {
      "text/plain": [
       "'Goyal'"
      ]
     },
     "execution_count": 24,
     "metadata": {},
     "output_type": "execute_result"
    }
   ],
   "source": [
    "# Substring by defining the start index\n",
    "name[6:]"
   ]
  },
  {
   "cell_type": "code",
   "execution_count": 25,
   "metadata": {},
   "outputs": [
    {
     "data": {
      "text/plain": [
       "'Rajat Go'"
      ]
     },
     "execution_count": 25,
     "metadata": {},
     "output_type": "execute_result"
    }
   ],
   "source": [
    "# Substring by defining the end index\n",
    "name[:8]"
   ]
  },
  {
   "cell_type": "code",
   "execution_count": 26,
   "metadata": {},
   "outputs": [
    {
     "data": {
      "text/plain": [
       "'Rajat Goyal'"
      ]
     },
     "execution_count": 26,
     "metadata": {},
     "output_type": "execute_result"
    }
   ],
   "source": [
    "# Substring without any index specified will return the original string\n",
    "name[:]"
   ]
  },
  {
   "cell_type": "code",
   "execution_count": 27,
   "metadata": {},
   "outputs": [
    {
     "name": "stdout",
     "output_type": "stream",
     "text": [
      "Hello World\n"
     ]
    }
   ],
   "source": [
    "# Print function which outputs the value on the console screen\n",
    "\n",
    "print(\"Hello World\")"
   ]
  },
  {
   "cell_type": "code",
   "execution_count": 28,
   "metadata": {},
   "outputs": [
    {
     "data": {
      "text/plain": [
       "11"
      ]
     },
     "execution_count": 28,
     "metadata": {},
     "output_type": "execute_result"
    }
   ],
   "source": [
    "# Length of a string - Blankspace also counts as a character\n",
    "\n",
    "len(\"Hello World\")"
   ]
  },
  {
   "cell_type": "markdown",
   "metadata": {},
   "source": [
    "### Characters"
   ]
  },
  {
   "cell_type": "code",
   "execution_count": 29,
   "metadata": {},
   "outputs": [
    {
     "data": {
      "text/plain": [
       "'R'"
      ]
     },
     "execution_count": 29,
     "metadata": {},
     "output_type": "execute_result"
    }
   ],
   "source": [
    "name = \"Rajat Goyal\"\n",
    "\n",
    "# Access characters of string which is 0-indexed using square brackets\n",
    "name[0]"
   ]
  },
  {
   "cell_type": "code",
   "execution_count": 30,
   "metadata": {},
   "outputs": [
    {
     "data": {
      "text/plain": [
       "'l'"
      ]
     },
     "execution_count": 30,
     "metadata": {},
     "output_type": "execute_result"
    }
   ],
   "source": [
    "# Access characters from the last using -1 indexing\n",
    "name[-1]"
   ]
  },
  {
   "cell_type": "markdown",
   "metadata": {},
   "source": [
    "### Lists"
   ]
  },
  {
   "cell_type": "code",
   "execution_count": 31,
   "metadata": {
    "collapsed": true
   },
   "outputs": [],
   "source": [
    "# Define a list of primitive data types\n",
    "\n",
    "marks = [49, 53, 87, 65, 71]"
   ]
  },
  {
   "cell_type": "code",
   "execution_count": 32,
   "metadata": {},
   "outputs": [
    {
     "data": {
      "text/plain": [
       "49"
      ]
     },
     "execution_count": 32,
     "metadata": {},
     "output_type": "execute_result"
    }
   ],
   "source": [
    "# Access the list which is 0-indexed i.e. (0, 1, 2, ... , n-1)\n",
    "\n",
    "marks[0]"
   ]
  },
  {
   "cell_type": "code",
   "execution_count": 33,
   "metadata": {},
   "outputs": [
    {
     "data": {
      "text/plain": [
       "[49, 53, 57, 65, 71]"
      ]
     },
     "execution_count": 33,
     "metadata": {},
     "output_type": "execute_result"
    }
   ],
   "source": [
    "# Change any value in the list\n",
    "\n",
    "marks[2] = 57\n",
    "\n",
    "marks"
   ]
  },
  {
   "cell_type": "code",
   "execution_count": 34,
   "metadata": {},
   "outputs": [
    {
     "data": {
      "text/plain": [
       "[49, 53, 57, 65, 71, 84, 68]"
      ]
     },
     "execution_count": 34,
     "metadata": {},
     "output_type": "execute_result"
    }
   ],
   "source": [
    "# Add new elements to the list\n",
    "\n",
    "updatedMarks = marks + [84, 68]\n",
    "updatedMarks"
   ]
  },
  {
   "cell_type": "code",
   "execution_count": 35,
   "metadata": {},
   "outputs": [
    {
     "data": {
      "text/plain": [
       "[49, 53, 57, 65, 71, 91]"
      ]
     },
     "execution_count": 35,
     "metadata": {},
     "output_type": "execute_result"
    }
   ],
   "source": [
    "# Add elements one at a time\n",
    "\n",
    "marks.append(91)\n",
    "marks"
   ]
  },
  {
   "cell_type": "code",
   "execution_count": 36,
   "metadata": {},
   "outputs": [
    {
     "data": {
      "text/plain": [
       "[49, 53]"
      ]
     },
     "execution_count": 36,
     "metadata": {},
     "output_type": "execute_result"
    }
   ],
   "source": [
    "# Sublist of a list\n",
    "\n",
    "marks[:2]"
   ]
  },
  {
   "cell_type": "code",
   "execution_count": 37,
   "metadata": {},
   "outputs": [
    {
     "data": {
      "text/plain": [
       "[0, 57, 65, 71, 91]"
      ]
     },
     "execution_count": 37,
     "metadata": {},
     "output_type": "execute_result"
    }
   ],
   "source": [
    "# Change sublist to a new list\n",
    "\n",
    "marks[:2] = [0]\n",
    "marks"
   ]
  },
  {
   "cell_type": "markdown",
   "metadata": {},
   "source": [
    "### Sets\n",
    "\n",
    "Sets do not contain any element twice"
   ]
  },
  {
   "cell_type": "code",
   "execution_count": 38,
   "metadata": {},
   "outputs": [
    {
     "name": "stdout",
     "output_type": "stream",
     "text": [
      "{'Chemistry', 'Mathematics', 'Physics', 'Economics', 'English'}\n"
     ]
    }
   ],
   "source": [
    "subjects = {'Mathematics', 'Physics', 'Chemistry', 'English', 'Economics'}\n",
    "print(subjects)"
   ]
  },
  {
   "cell_type": "code",
   "execution_count": 39,
   "metadata": {},
   "outputs": [
    {
     "name": "stdout",
     "output_type": "stream",
     "text": [
      "It's gonna be fun!!\n"
     ]
    }
   ],
   "source": [
    "if 'Physics' in subjects:\n",
    "    print(\"It's gonna be fun!!\")\n",
    "else:\n",
    "    print('-_-')"
   ]
  },
  {
   "cell_type": "markdown",
   "metadata": {},
   "source": [
    "### Dictionaries\n",
    "\n",
    "Dictionary is a set of key value pair"
   ]
  },
  {
   "cell_type": "code",
   "execution_count": 40,
   "metadata": {},
   "outputs": [
    {
     "name": "stdout",
     "output_type": "stream",
     "text": [
      "{59: 'Rajat', 64: 'Rohan', 66: 'Rohit'}\n",
      "Rohan\n"
     ]
    }
   ],
   "source": [
    "students = {59:'Rajat', 64:'Rohan', 66:'Rohit'}\n",
    "\n",
    "print(students)\n",
    "print(students[64])"
   ]
  },
  {
   "cell_type": "code",
   "execution_count": 41,
   "metadata": {},
   "outputs": [
    {
     "name": "stdout",
     "output_type": "stream",
     "text": [
      "59 : Rajat\n",
      "64 : Rohan\n",
      "66 : Rohit\n"
     ]
    }
   ],
   "source": [
    "# Iterate over all elements of the dictionary\n",
    "\n",
    "for key, value in students.items():\n",
    "    print(str(key) + \" : \" + value)"
   ]
  },
  {
   "cell_type": "markdown",
   "metadata": {
    "collapsed": true
   },
   "source": [
    "## Loops"
   ]
  },
  {
   "cell_type": "markdown",
   "metadata": {},
   "source": [
    "### If"
   ]
  },
  {
   "cell_type": "code",
   "execution_count": 42,
   "metadata": {},
   "outputs": [
    {
     "name": "stdout",
     "output_type": "stream",
     "text": [
      "I can vote now!\n"
     ]
    }
   ],
   "source": [
    "age = 27\n",
    "\n",
    "if age >= 18:\n",
    "    print(\"I can vote now!\")"
   ]
  },
  {
   "cell_type": "markdown",
   "metadata": {},
   "source": [
    "### If-Else"
   ]
  },
  {
   "cell_type": "code",
   "execution_count": 43,
   "metadata": {},
   "outputs": [
    {
     "name": "stdout",
     "output_type": "stream",
     "text": [
      "Hello Lord!\n"
     ]
    }
   ],
   "source": [
    "name = \"Rajat\"\n",
    "\n",
    "if name is \"Rajat\":\n",
    "    print('Hello Lord!')\n",
    "else:\n",
    "    print(\"I don't know ya\")"
   ]
  },
  {
   "cell_type": "markdown",
   "metadata": {},
   "source": [
    "### If - Else If - Else"
   ]
  },
  {
   "cell_type": "code",
   "execution_count": 44,
   "metadata": {},
   "outputs": [
    {
     "name": "stdout",
     "output_type": "stream",
     "text": [
      "Bar\n"
     ]
    }
   ],
   "source": [
    "num = 18\n",
    "\n",
    "if num % 15 == 0:\n",
    "    print(\"FooBar\")\n",
    "elif num % 5 == 0:\n",
    "    print(\"Foo\")\n",
    "elif num % 3 == 0:\n",
    "    print(\"Bar\")\n",
    "else:\n",
    "    print(\"Nothing\")"
   ]
  },
  {
   "cell_type": "markdown",
   "metadata": {},
   "source": [
    "### For"
   ]
  },
  {
   "cell_type": "code",
   "execution_count": 45,
   "metadata": {},
   "outputs": [
    {
     "name": "stdout",
     "output_type": "stream",
     "text": [
      "bacon\n",
      "5\n",
      "tuna\n",
      "4\n",
      "ham\n",
      "3\n",
      "beef\n",
      "4\n"
     ]
    }
   ],
   "source": [
    "foods = ['bacon', 'tuna', 'ham', 'beef']\n",
    "\n",
    "for f in foods:\n",
    "    print(f)\n",
    "    print(len(f))"
   ]
  },
  {
   "cell_type": "markdown",
   "metadata": {},
   "source": [
    "### Range"
   ]
  },
  {
   "cell_type": "code",
   "execution_count": 46,
   "metadata": {},
   "outputs": [
    {
     "name": "stdout",
     "output_type": "stream",
     "text": [
      "0\n",
      "1\n",
      "2\n",
      "3\n",
      "4\n"
     ]
    }
   ],
   "source": [
    "# 1 argument - [0,n-1]\n",
    "for x in range(5):\n",
    "    print(x)"
   ]
  },
  {
   "cell_type": "code",
   "execution_count": 47,
   "metadata": {},
   "outputs": [
    {
     "name": "stdout",
     "output_type": "stream",
     "text": [
      "1\n",
      "2\n",
      "3\n",
      "4\n",
      "5\n"
     ]
    }
   ],
   "source": [
    "# 2 arguments - [a, b-1]\n",
    "for x in range(1, 6):\n",
    "    print(x)"
   ]
  },
  {
   "cell_type": "code",
   "execution_count": 48,
   "metadata": {},
   "outputs": [
    {
     "name": "stdout",
     "output_type": "stream",
     "text": [
      "0\n",
      "5\n",
      "10\n",
      "15\n",
      "20\n"
     ]
    }
   ],
   "source": [
    "# 3 arguments - arithmetic progression with 3rd argument as the difference\n",
    "for x in range(0, 25, 5):\n",
    "    print(x)"
   ]
  },
  {
   "cell_type": "markdown",
   "metadata": {},
   "source": [
    "### While"
   ]
  },
  {
   "cell_type": "code",
   "execution_count": 49,
   "metadata": {},
   "outputs": [
    {
     "name": "stdout",
     "output_type": "stream",
     "text": [
      "Num : 5\n",
      "Num : 6\n",
      "Num : 7\n",
      "Num : 8\n",
      "Num : 9\n"
     ]
    }
   ],
   "source": [
    "num = 5\n",
    "\n",
    "while num < 10:\n",
    "    print(\"Num :\", num)\n",
    "    num += 1"
   ]
  },
  {
   "cell_type": "markdown",
   "metadata": {},
   "source": [
    "## Flow Control"
   ]
  },
  {
   "cell_type": "markdown",
   "metadata": {},
   "source": [
    "### Break"
   ]
  },
  {
   "cell_type": "code",
   "execution_count": 50,
   "metadata": {},
   "outputs": [
    {
     "name": "stdout",
     "output_type": "stream",
     "text": [
      "-\n",
      "-\n",
      "-\n",
      "-\n",
      "-\n",
      "Found the number!!\n"
     ]
    }
   ],
   "source": [
    "number = 5\n",
    "\n",
    "for n in range(11):\n",
    "    if n is number:\n",
    "        print(\"Found the number!!\")\n",
    "        break\n",
    "    print('-')"
   ]
  },
  {
   "cell_type": "markdown",
   "metadata": {},
   "source": [
    "### Continue"
   ]
  },
  {
   "cell_type": "code",
   "execution_count": 51,
   "metadata": {},
   "outputs": [
    {
     "name": "stdout",
     "output_type": "stream",
     "text": [
      "0\n",
      "1\n",
      "2\n",
      "3\n",
      "4\n",
      "Skip the number!!\n",
      "6\n",
      "7\n",
      "8\n",
      "9\n",
      "10\n"
     ]
    }
   ],
   "source": [
    "number = 5\n",
    "\n",
    "for n in range(11):\n",
    "    if n is number:\n",
    "        print(\"Skip the number!!\")\n",
    "        continue\n",
    "    print(n)"
   ]
  },
  {
   "cell_type": "markdown",
   "metadata": {},
   "source": [
    "## Comments"
   ]
  },
  {
   "cell_type": "markdown",
   "metadata": {},
   "source": [
    "### Single Line"
   ]
  },
  {
   "cell_type": "code",
   "execution_count": 52,
   "metadata": {
    "collapsed": true
   },
   "outputs": [],
   "source": [
    "# This is a single line comment"
   ]
  },
  {
   "cell_type": "markdown",
   "metadata": {},
   "source": [
    "### Multi Line"
   ]
  },
  {
   "cell_type": "code",
   "execution_count": 53,
   "metadata": {},
   "outputs": [
    {
     "name": "stdout",
     "output_type": "stream",
     "text": [
      "Hello\n",
      "world\n"
     ]
    }
   ],
   "source": [
    "print('Hello')\n",
    "\n",
    "'''\n",
    "Triple quotes are used for\n",
    "    - multi\n",
    "    - line\n",
    "    - comments\n",
    "'''\n",
    "\n",
    "print('world')"
   ]
  },
  {
   "cell_type": "markdown",
   "metadata": {
    "collapsed": true
   },
   "source": [
    "## Functions"
   ]
  },
  {
   "cell_type": "code",
   "execution_count": 54,
   "metadata": {},
   "outputs": [
    {
     "name": "stdout",
     "output_type": "stream",
     "text": [
      "Hello World!\n"
     ]
    }
   ],
   "source": [
    "# Defining a function\n",
    "def sayHello():\n",
    "    print('Hello World!')\n",
    "\n",
    "# Calling the function\n",
    "sayHello()"
   ]
  },
  {
   "cell_type": "markdown",
   "metadata": {
    "collapsed": true
   },
   "source": [
    "### Parameters"
   ]
  },
  {
   "cell_type": "code",
   "execution_count": 55,
   "metadata": {},
   "outputs": [
    {
     "name": "stdout",
     "output_type": "stream",
     "text": [
      "5 feet = 60 inches\n",
      "6.2 feet = 74.4 inches\n"
     ]
    }
   ],
   "source": [
    "# Single Parameter\n",
    "\n",
    "def feet_to_inches(feet):\n",
    "    inches = 12 * feet\n",
    "    print(str(feet) + \" feet = \" + str(inches) + \" inches\")\n",
    "\n",
    "feet_to_inches(5)\n",
    "feet_to_inches(6.2)"
   ]
  },
  {
   "cell_type": "code",
   "execution_count": 56,
   "metadata": {},
   "outputs": [
    {
     "name": "stdout",
     "output_type": "stream",
     "text": [
      "187.5\n"
     ]
    }
   ],
   "source": [
    "# Multiple Parameters\n",
    "\n",
    "def calculateSimpleInterest(amount, rate, time):\n",
    "    interest = (amount * rate * time) / 100\n",
    "    print(interest)\n",
    "    \n",
    "calculateSimpleInterest(1250, 5, 3)"
   ]
  },
  {
   "cell_type": "markdown",
   "metadata": {
    "collapsed": true
   },
   "source": [
    "### Return Values"
   ]
  },
  {
   "cell_type": "code",
   "execution_count": 57,
   "metadata": {},
   "outputs": [
    {
     "name": "stdout",
     "output_type": "stream",
     "text": [
      "I scored 80.75%\n"
     ]
    }
   ],
   "source": [
    "# Return statement\n",
    "\n",
    "def calculatePercentage(obtainedMarks, totalMarks):\n",
    "    percentage = (obtainedMarks / totalMarks) * 100\n",
    "    return percentage\n",
    "\n",
    "print('I scored ' + str(calculatePercentage(323, 400)) + \"%\")"
   ]
  },
  {
   "cell_type": "markdown",
   "metadata": {},
   "source": [
    "### Variable Scope"
   ]
  },
  {
   "cell_type": "code",
   "execution_count": 58,
   "metadata": {},
   "outputs": [
    {
     "name": "stdout",
     "output_type": "stream",
     "text": [
      "25\n",
      "30\n",
      "25\n"
     ]
    }
   ],
   "source": [
    "a = 25 # Global variable\n",
    "\n",
    "def funcA():\n",
    "    b = 30 # Local variable\n",
    "    print(a) # Prints out the global variable\n",
    "    print(b) # Prints out the local variable\n",
    "    \n",
    "def funcB():\n",
    "    print(a) # Prints out the global variable\n",
    "    # print(b) # Variable b is not accessible here\n",
    "    \n",
    "funcA()\n",
    "funcB()"
   ]
  },
  {
   "cell_type": "markdown",
   "metadata": {
    "collapsed": true
   },
   "source": [
    "### Default Arguments"
   ]
  },
  {
   "cell_type": "code",
   "execution_count": 59,
   "metadata": {},
   "outputs": [
    {
     "name": "stdout",
     "output_type": "stream",
     "text": [
      "Male\n",
      "Female\n",
      "Unknown\n"
     ]
    }
   ],
   "source": [
    "# Default value for the parameter 'sex' is 'Unknown'\n",
    "# This means that if no value is passed for the parameter 'sex', default value will be taken\n",
    "\n",
    "def get_gender(sex='Unknown'):\n",
    "    if sex is 'm':\n",
    "        sex = 'Male'\n",
    "    elif sex is 'f':\n",
    "        sex = 'Female'\n",
    "    print(sex)\n",
    "\n",
    "get_gender('m')\n",
    "get_gender('f')\n",
    "get_gender()"
   ]
  },
  {
   "cell_type": "markdown",
   "metadata": {},
   "source": [
    "### Keyword Arguments"
   ]
  },
  {
   "cell_type": "code",
   "execution_count": 60,
   "metadata": {},
   "outputs": [
    {
     "name": "stdout",
     "output_type": "stream",
     "text": [
      "20.0\n",
      "120.0\n",
      "40.0\n",
      "100.0\n"
     ]
    }
   ],
   "source": [
    "# Default value of 'time' is '1 year'\n",
    "# With the help of keyword arguments, we can change specific arguments also\n",
    "\n",
    "def calculateSimpleInterest(amount=1000, rate=2, time=1):\n",
    "    interest = (amount * rate * time) / 100\n",
    "    print(interest)\n",
    "    \n",
    "calculateSimpleInterest() # Default arguments\n",
    "calculateSimpleInterest(1200, 5, 2)\n",
    "calculateSimpleInterest(time=2) # Specific value for parameter 'time' only\n",
    "calculateSimpleInterest(time=2, rate=5) # No need to maintain the correct order"
   ]
  },
  {
   "cell_type": "markdown",
   "metadata": {},
   "source": [
    "### Flexible Number of Arguments"
   ]
  },
  {
   "cell_type": "code",
   "execution_count": 61,
   "metadata": {},
   "outputs": [
    {
     "name": "stdout",
     "output_type": "stream",
     "text": [
      "0\n",
      "3\n",
      "15\n"
     ]
    }
   ],
   "source": [
    "# Use asterisk(*) to specify unknown number of arguments\n",
    "\n",
    "def add_numbers(*args):\n",
    "    total = 0\n",
    "    for a in args:\n",
    "        total += a\n",
    "    print(total)\n",
    "    \n",
    "add_numbers()\n",
    "add_numbers(3)\n",
    "add_numbers(1, 2, 3, 4, 5)"
   ]
  },
  {
   "cell_type": "markdown",
   "metadata": {},
   "source": [
    "### Unpacking Arguments"
   ]
  },
  {
   "cell_type": "code",
   "execution_count": 62,
   "metadata": {},
   "outputs": [
    {
     "name": "stdout",
     "output_type": "stream",
     "text": [
      "120.0\n",
      "120.0\n"
     ]
    }
   ],
   "source": [
    "# Asterisk(*) does the unpacking of list into arguments\n",
    "\n",
    "def calculateSimpleInterest(amount=1000, rate=2, time=1):\n",
    "    interest = (amount * rate * time) / 100\n",
    "    print(interest)\n",
    "\n",
    "data = [1200, 5, 2]\n",
    "\n",
    "calculateSimpleInterest(data[0], data[1], data[2])\n",
    "calculateSimpleInterest(*data)"
   ]
  },
  {
   "cell_type": "markdown",
   "metadata": {},
   "source": [
    "## Modules\n",
    "\n",
    "With the help of modules, there is no need to rewrite functions over and over again."
   ]
  },
  {
   "cell_type": "code",
   "execution_count": 63,
   "metadata": {},
   "outputs": [
    {
     "name": "stdout",
     "output_type": "stream",
     "text": [
      "Hello World\n"
     ]
    }
   ],
   "source": [
    "# Create a file test.py which acts as a module\n",
    "\n",
    "# Import the module(thus importing all functions in it)\n",
    "import test\n",
    "\n",
    "# Call the function using the module name\n",
    "test.hello()"
   ]
  },
  {
   "cell_type": "code",
   "execution_count": 64,
   "metadata": {},
   "outputs": [
    {
     "name": "stdout",
     "output_type": "stream",
     "text": [
      "220\n"
     ]
    }
   ],
   "source": [
    "import random\n",
    "\n",
    "x = random.randrange(1, 1000)\n",
    "print(x)"
   ]
  },
  {
   "cell_type": "code",
   "execution_count": 65,
   "metadata": {},
   "outputs": [
    {
     "name": "stdout",
     "output_type": "stream",
     "text": [
      "Hello World\n"
     ]
    }
   ],
   "source": [
    "# From 'test' module, import specific function 'hello'\n",
    "from test import hello\n",
    "\n",
    "hello()"
   ]
  },
  {
   "cell_type": "markdown",
   "metadata": {},
   "source": [
    "### Download an image from the web"
   ]
  },
  {
   "cell_type": "code",
   "execution_count": 66,
   "metadata": {
    "collapsed": true
   },
   "outputs": [],
   "source": [
    "import urllib.request\n",
    "\n",
    "def download_web_image(url):\n",
    "    urllib.request.urlretrieve(url, 'images/image.png')\n",
    "    \n",
    "download_web_image(\"https://www.python.org/static/opengraph-icon-200x200.png\")"
   ]
  },
  {
   "cell_type": "markdown",
   "metadata": {},
   "source": [
    "### Read and write files"
   ]
  },
  {
   "cell_type": "code",
   "execution_count": 67,
   "metadata": {
    "collapsed": true
   },
   "outputs": [],
   "source": [
    "fw = open('sample.txt', 'w')\n",
    "\n",
    "for i in range(5):\n",
    "    fw.write(str(i) + '\\n')\n",
    "\n",
    "fw.close()"
   ]
  },
  {
   "cell_type": "code",
   "execution_count": 68,
   "metadata": {},
   "outputs": [
    {
     "name": "stdout",
     "output_type": "stream",
     "text": [
      "0\n",
      "1\n",
      "2\n",
      "3\n",
      "4\n",
      "\n"
     ]
    }
   ],
   "source": [
    "fr = open('sample.txt', 'r')\n",
    "\n",
    "data = fr.read()\n",
    "print(data)\n",
    "\n",
    "fr.close()"
   ]
  },
  {
   "cell_type": "markdown",
   "metadata": {},
   "source": [
    "## Exception"
   ]
  },
  {
   "cell_type": "code",
   "execution_count": 69,
   "metadata": {},
   "outputs": [
    {
     "name": "stdout",
     "output_type": "stream",
     "text": [
      "\n",
      "Enter a number \n",
      "abc\n",
      "Oops! Please enter a number only.\n",
      "Loop complete\n",
      "\n",
      "Enter a number \n",
      "0\n",
      "Don't pick zero\n",
      "Loop complete\n",
      "\n",
      "Enter a number \n",
      "123\n",
      "0.4065040650406504\n",
      "Loop complete\n"
     ]
    }
   ],
   "source": [
    "while True:\n",
    "    try:\n",
    "        x = int(input('\\nEnter a number \\n'))\n",
    "        print(50/x)\n",
    "        break\n",
    "    except ValueError:\n",
    "        # If input contains anything other than digits\n",
    "        print('Oops! Please enter a number only.')\n",
    "    except ZeroDivisionError:\n",
    "        # If input is equal to zero\n",
    "        print(\"Don't pick zero\")\n",
    "    except:\n",
    "        # All other errors will be caught by this method\n",
    "        break\n",
    "    finally:\n",
    "        # This is called in every case\n",
    "        print('Loop complete')"
   ]
  },
  {
   "cell_type": "markdown",
   "metadata": {},
   "source": [
    "## Classes and Objects"
   ]
  },
  {
   "cell_type": "code",
   "execution_count": 70,
   "metadata": {
    "collapsed": true
   },
   "outputs": [],
   "source": [
    "class Class:\n",
    "    \n",
    "    variable = 10\n",
    "    \n",
    "    def incrementVariable(self):\n",
    "        self.variable += 1\n",
    "        \n",
    "    def decrementVariable(self):\n",
    "        self.variable -= 1\n",
    "        \n",
    "    def printVariable(self):\n",
    "        print(self.variable)"
   ]
  },
  {
   "cell_type": "code",
   "execution_count": 71,
   "metadata": {},
   "outputs": [
    {
     "name": "stdout",
     "output_type": "stream",
     "text": [
      "10\n",
      "11\n",
      "10\n"
     ]
    }
   ],
   "source": [
    "# Creating an object\n",
    "obj = Class()\n",
    "\n",
    "# Calling the member functions of the class using the object\n",
    "obj.printVariable()\n",
    "obj.incrementVariable()\n",
    "obj.printVariable()\n",
    "obj.decrementVariable()\n",
    "obj.printVariable()"
   ]
  },
  {
   "cell_type": "code",
   "execution_count": 72,
   "metadata": {},
   "outputs": [
    {
     "name": "stdout",
     "output_type": "stream",
     "text": [
      "11\n",
      "9\n"
     ]
    }
   ],
   "source": [
    "# Different objects have different memory blocks associated for class member variables\n",
    "obj1 = Class()\n",
    "obj2 = Class()\n",
    "\n",
    "obj1.incrementVariable()\n",
    "obj2.decrementVariable()\n",
    "\n",
    "obj1.printVariable()\n",
    "obj2.printVariable()"
   ]
  },
  {
   "cell_type": "markdown",
   "metadata": {},
   "source": [
    "### init function"
   ]
  },
  {
   "cell_type": "code",
   "execution_count": 73,
   "metadata": {
    "collapsed": true
   },
   "outputs": [],
   "source": [
    "class Class:\n",
    "    \n",
    "    # Constructor helps in constructing objects\n",
    "    def __init__(self, x=10):\n",
    "        self.variable = x\n",
    "        \n",
    "    def printVariable(self):\n",
    "        print(self.variable)"
   ]
  },
  {
   "cell_type": "code",
   "execution_count": 74,
   "metadata": {},
   "outputs": [
    {
     "name": "stdout",
     "output_type": "stream",
     "text": [
      "10\n",
      "32\n"
     ]
    }
   ],
   "source": [
    "# Initiating an object will first call the constructor i.e init function\n",
    "obj = Class()\n",
    "obj1 = Class(32)\n",
    "\n",
    "obj.printVariable()\n",
    "obj1.printVariable()"
   ]
  },
  {
   "cell_type": "markdown",
   "metadata": {},
   "source": [
    "### Class Variables vs Instance Variables"
   ]
  },
  {
   "cell_type": "code",
   "execution_count": 75,
   "metadata": {},
   "outputs": [
    {
     "name": "stdout",
     "output_type": "stream",
     "text": [
      "female\n",
      "female\n",
      "name1\n",
      "name2\n"
     ]
    }
   ],
   "source": [
    "class Girl:\n",
    "    \n",
    "    # Class variables are shared by all instances of the class\n",
    "    gender = 'female'\n",
    "    \n",
    "    def __init__(self, name):\n",
    "        # For each object of the class, instance variables are different\n",
    "        self.name = name\n",
    "        \n",
    "r = Girl('name1')\n",
    "s = Girl('name2')\n",
    "\n",
    "print(r.gender)\n",
    "print(s.gender)\n",
    "print(r.name)\n",
    "print(s.name)"
   ]
  },
  {
   "cell_type": "markdown",
   "metadata": {
    "collapsed": true
   },
   "source": [
    "## Inheritance"
   ]
  },
  {
   "cell_type": "code",
   "execution_count": 76,
   "metadata": {},
   "outputs": [
    {
     "name": "stdout",
     "output_type": "stream",
     "text": [
      "First Name\n",
      "Last Name\n"
     ]
    }
   ],
   "source": [
    "class Parent():\n",
    "    \n",
    "    def print_last_name(self):\n",
    "        print('Last Name')\n",
    "\n",
    "\n",
    "class Child(Parent):\n",
    "    \n",
    "    def print_first_name(self):\n",
    "        print('First Name')\n",
    "\n",
    "\n",
    "child = Child()\n",
    "child.print_first_name()\n",
    "\n",
    "# We can call the parent class functions also on any object of child class\n",
    "child.print_last_name()"
   ]
  },
  {
   "cell_type": "markdown",
   "metadata": {},
   "source": [
    "### Overriding"
   ]
  },
  {
   "cell_type": "code",
   "execution_count": 77,
   "metadata": {},
   "outputs": [
    {
     "name": "stdout",
     "output_type": "stream",
     "text": [
      "First Name\n",
      "Another Last Name\n"
     ]
    }
   ],
   "source": [
    "class Parent():\n",
    "    \n",
    "    def print_last_name(self):\n",
    "        print('Last Name')\n",
    "        \n",
    "\n",
    "class Child(Parent):\n",
    "    \n",
    "    def print_first_name(self):\n",
    "        print('First Name')\n",
    "    \n",
    "    # Overriding a function already present in the parent class\n",
    "    def print_last_name(self):\n",
    "        print('Another Last Name')\n",
    "        \n",
    "        \n",
    "child = Child()\n",
    "child.print_first_name()\n",
    "\n",
    "# New function defined in child class overrides the parent function\n",
    "child.print_last_name()"
   ]
  },
  {
   "cell_type": "markdown",
   "metadata": {},
   "source": [
    "## Multiple Inheritance\n",
    "\n",
    "Inherting the functions from two or more classes"
   ]
  },
  {
   "cell_type": "code",
   "execution_count": 78,
   "metadata": {},
   "outputs": [
    {
     "name": "stdout",
     "output_type": "stream",
     "text": [
      "Function of class A\n",
      "Function of class B\n"
     ]
    }
   ],
   "source": [
    "class A():\n",
    "    \n",
    "    def funcA(self):\n",
    "        print('Function of class A')\n",
    "    \n",
    "class B():\n",
    "\n",
    "    def funcB(self):\n",
    "        print('Function of class B')\n",
    "\n",
    "# Multiple inheritance\n",
    "class C(A, B):\n",
    "    \n",
    "    # If no function or class variable in present in class, we have to write the keyword 'pass'\n",
    "    pass\n",
    "\n",
    "c = C()\n",
    "c.funcA()\n",
    "c.funcB()"
   ]
  },
  {
   "cell_type": "markdown",
   "metadata": {},
   "source": [
    "## Threading"
   ]
  },
  {
   "cell_type": "code",
   "execution_count": 79,
   "metadata": {},
   "outputs": [
    {
     "name": "stdout",
     "output_type": "stream",
     "text": [
      "Send out messagesReceive messages\n",
      "\n",
      "Receive messages\n",
      "Send out messagesReceive messages\n",
      "\n"
     ]
    }
   ],
   "source": [
    "import threading\n",
    "\n",
    "class Messenger(threading.Thread):\n",
    "    \n",
    "    def run(self):\n",
    "        for _ in range(10):\n",
    "            print(threading.currentThread().getName())\n",
    "            \n",
    "x = Messenger(name = 'Send out messages')\n",
    "y = Messenger(name = 'Receive messages')\n",
    "\n",
    "x.start()\n",
    "y.start()"
   ]
  },
  {
   "cell_type": "markdown",
   "metadata": {},
   "source": [
    "### Unpacking Lists"
   ]
  },
  {
   "cell_type": "code",
   "execution_count": 80,
   "metadata": {},
   "outputs": [
    {
     "name": "stdout",
     "output_type": "stream",
     "text": [
      "Send out messagesReceive messages\n",
      "\n",
      "Send out messagesReceive messages\n",
      "\n",
      "Receive messagesSend out messages\n",
      "\n",
      "Receive messagesSend out messages\n",
      "\n",
      "Receive messagesSend out messages\n",
      "\n",
      "Receive messagesSend out messages\n",
      "\n",
      "Receive messagesSend out messages\n",
      "\n",
      "Send out messages\n",
      "Rajat\n",
      "Goyal\n",
      "20\n"
     ]
    }
   ],
   "source": [
    "details = ['Rajat', 'Goyal', 20]\n",
    "\n",
    "# Unpacking a list into different variables\n",
    "first_name, last_name, age = details\n",
    "\n",
    "print(first_name)\n",
    "print(last_name)\n",
    "print(age)"
   ]
  },
  {
   "cell_type": "code",
   "execution_count": 81,
   "metadata": {},
   "outputs": [
    {
     "name": "stdout",
     "output_type": "stream",
     "text": [
      "23\n",
      "[26, 76, 45, 59, 38, 94]\n",
      "43\n"
     ]
    }
   ],
   "source": [
    "# In the above example, we knew the number of elements(attributes) present in the list\n",
    "# We can use asterisk(*) to store the remaining elements of the list\n",
    "\n",
    "marks = [23, 26, 76, 45, 59, 38, 94, 43]\n",
    "\n",
    "first, *remaining, last = marks\n",
    "\n",
    "print(first)\n",
    "print(remaining)\n",
    "print(last)"
   ]
  },
  {
   "cell_type": "markdown",
   "metadata": {},
   "source": [
    "### Zip function\n",
    "\n",
    "Attach two lists together"
   ]
  },
  {
   "cell_type": "code",
   "execution_count": 82,
   "metadata": {},
   "outputs": [
    {
     "name": "stdout",
     "output_type": "stream",
     "text": [
      "Bruce Wayne\n",
      "Tom Hanks\n",
      "Taylor Swift\n"
     ]
    }
   ],
   "source": [
    "first = ['Bruce', 'Tom', 'Taylor']\n",
    "last = ['Wayne', 'Hanks', 'Swift']\n",
    "\n",
    "names = zip(first, last)\n",
    "\n",
    "for a, b in names:\n",
    "    print(a, b)"
   ]
  },
  {
   "cell_type": "markdown",
   "metadata": {},
   "source": [
    "### Lambda function\n",
    "\n",
    "function_name = lambda parameter: computation"
   ]
  },
  {
   "cell_type": "code",
   "execution_count": 83,
   "metadata": {},
   "outputs": [
    {
     "name": "stdout",
     "output_type": "stream",
     "text": [
      "25\n"
     ]
    }
   ],
   "source": [
    "answer = lambda x: x*5\n",
    "print(answer(5))"
   ]
  },
  {
   "cell_type": "markdown",
   "metadata": {},
   "source": [
    "### Min, Max and Sorting Dictionaries"
   ]
  },
  {
   "cell_type": "code",
   "execution_count": 84,
   "metadata": {},
   "outputs": [
    {
     "name": "stdout",
     "output_type": "stream",
     "text": [
      "('chemistry', 93)\n",
      "(90, 'english')\n",
      "(98, 'physical education')\n",
      "[(90, 'english'), (93, 'chemistry'), (93, 'physics'), (95, 'mathematics'), (98, 'physical education')]\n"
     ]
    }
   ],
   "source": [
    "marks = {\n",
    "    'physics' : 93,\n",
    "    'mathematics' : 95,\n",
    "    'chemistry' : 93,\n",
    "    'english' : 90,\n",
    "    'physical education' : 98\n",
    "}\n",
    "\n",
    "# Minimum according to the alphabetical order of keys\n",
    "print(min(zip(marks.keys(), marks.values())))\n",
    "\n",
    "# Minimum according to the numerical value\n",
    "print(min(zip(marks.values(), marks.keys())))\n",
    "\n",
    "# Maximum of all the values\n",
    "print(max(zip(marks.values(), marks.keys())))\n",
    "\n",
    "# Sorted list of tuples\n",
    "print(sorted(zip(marks.values(), marks.keys())))"
   ]
  },
  {
   "cell_type": "markdown",
   "metadata": {
    "collapsed": true
   },
   "source": [
    "### Struct"
   ]
  },
  {
   "cell_type": "code",
   "execution_count": 85,
   "metadata": {},
   "outputs": [
    {
     "name": "stdout",
     "output_type": "stream",
     "text": [
      "b'\\x06\\x00\\x00\\x00\\x13\\x00\\x00\\x00)\\\\\\x97@'\n"
     ]
    }
   ],
   "source": [
    "from struct import *\n",
    "\n",
    "# Store as bytes data\n",
    "packed_data = pack('iif', 6, 19, 4.73)\n",
    "print(packed_data)"
   ]
  },
  {
   "cell_type": "code",
   "execution_count": 86,
   "metadata": {},
   "outputs": [
    {
     "name": "stdout",
     "output_type": "stream",
     "text": [
      "(6, 19, 4.730000019073486)\n"
     ]
    }
   ],
   "source": [
    "print(unpack('iif', packed_data))"
   ]
  },
  {
   "cell_type": "markdown",
   "metadata": {},
   "source": [
    "### Map function"
   ]
  },
  {
   "cell_type": "code",
   "execution_count": 87,
   "metadata": {},
   "outputs": [
    {
     "name": "stdout",
     "output_type": "stream",
     "text": [
      "[20, 60, 150]\n"
     ]
    }
   ],
   "source": [
    "income = [10, 30, 75]\n",
    "\n",
    "def double_money(money):\n",
    "    return money * 2\n",
    "\n",
    "new_income = list(map(double_money, income))\n",
    "print(new_income)"
   ]
  },
  {
   "cell_type": "markdown",
   "metadata": {},
   "source": [
    "## Bitwise Operators"
   ]
  },
  {
   "cell_type": "markdown",
   "metadata": {},
   "source": [
    "### AND"
   ]
  },
  {
   "cell_type": "code",
   "execution_count": 88,
   "metadata": {},
   "outputs": [
    {
     "name": "stdout",
     "output_type": "stream",
     "text": [
      "16\n"
     ]
    }
   ],
   "source": [
    "a = 50     # 110010\n",
    "b = 25     # 011001\n",
    "\n",
    "c = a & b  # 010000\n",
    "print(c)"
   ]
  },
  {
   "cell_type": "markdown",
   "metadata": {},
   "source": [
    "### OR"
   ]
  },
  {
   "cell_type": "code",
   "execution_count": 89,
   "metadata": {},
   "outputs": [
    {
     "name": "stdout",
     "output_type": "stream",
     "text": [
      "59\n"
     ]
    }
   ],
   "source": [
    "a = 50     # 110010\n",
    "b = 25     # 011001\n",
    "\n",
    "c = a | b  # 111011\n",
    "print(c)"
   ]
  },
  {
   "cell_type": "markdown",
   "metadata": {},
   "source": [
    "### Left and Right Shift"
   ]
  },
  {
   "cell_type": "code",
   "execution_count": 90,
   "metadata": {},
   "outputs": [
    {
     "name": "stdout",
     "output_type": "stream",
     "text": [
      "960\n",
      "60\n"
     ]
    }
   ],
   "source": [
    "a = 240     # 11110000\n",
    "\n",
    "# Left shift\n",
    "b = a << 2  # 1111000000\n",
    "print(b)\n",
    "\n",
    "# Right shift\n",
    "b = a >> 2  # 00111100\n",
    "print(b)"
   ]
  },
  {
   "cell_type": "markdown",
   "metadata": {},
   "source": [
    "### Finding Largest or Smallest Items"
   ]
  },
  {
   "cell_type": "code",
   "execution_count": 91,
   "metadata": {},
   "outputs": [
    {
     "name": "stdout",
     "output_type": "stream",
     "text": [
      "[654, 532, 132]\n"
     ]
    }
   ],
   "source": [
    "import heapq\n",
    "\n",
    "grades = [32, 43, 654, 34, 132, 66, 99, 532]\n",
    "\n",
    "print(heapq.nlargest(3, grades))"
   ]
  },
  {
   "cell_type": "code",
   "execution_count": 92,
   "metadata": {},
   "outputs": [
    {
     "name": "stdout",
     "output_type": "stream",
     "text": [
      "[{'ticker': 'F', 'price': 54}, {'ticker': 'YHOO', 'price': 68}]\n"
     ]
    }
   ],
   "source": [
    "stocks = [\n",
    "    {'ticker': 'AAPL', 'price': 201},\n",
    "    {'ticker': 'GOOG', 'price': 800},\n",
    "    {'ticker': 'F', 'price': 54},\n",
    "    {'ticker': 'MSFT', 'price': 313},\n",
    "    {'ticker': 'YHOO', 'price': 68},\n",
    "]\n",
    "\n",
    "print(heapq.nsmallest(2, stocks, key=lambda stock: stock['price']))"
   ]
  },
  {
   "cell_type": "markdown",
   "metadata": {},
   "source": [
    "### Finding most frequent items"
   ]
  },
  {
   "cell_type": "code",
   "execution_count": 93,
   "metadata": {},
   "outputs": [
    {
     "name": "stdout",
     "output_type": "stream",
     "text": [
      "[('to', 2), (\"you're\", 2), ('a', 2)]\n"
     ]
    }
   ],
   "source": [
    "from collections import Counter\n",
    "\n",
    "text = \"Python can be easy to pick up whether you're a first time programmer or you're experienced with other languages. The following pages are a useful first step to get on your way writing programs with Python!\"\n",
    "\n",
    "words = text.split()\n",
    "\n",
    "counter = Counter(words)\n",
    "top_three = counter.most_common(3)\n",
    "print(top_three)"
   ]
  }
 ],
 "metadata": {
  "kernelspec": {
   "display_name": "Python 3",
   "language": "python",
   "name": "python3"
  },
  "language_info": {
   "codemirror_mode": {
    "name": "ipython",
    "version": 3
   },
   "file_extension": ".py",
   "mimetype": "text/x-python",
   "name": "python",
   "nbconvert_exporter": "python",
   "pygments_lexer": "ipython3",
   "version": "3.6.2"
  }
 },
 "nbformat": 4,
 "nbformat_minor": 2
}
